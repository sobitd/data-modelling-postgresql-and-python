{
 "cells": [
  {
   "cell_type": "markdown",
   "id": "5286f659",
   "metadata": {},
   "source": [
    "##### import libraries "
   ]
  },
  {
   "cell_type": "code",
   "execution_count": null,
   "id": "309188a4",
   "metadata": {},
   "outputs": [],
   "source": [
    "import Numpy as np\n",
    "import Pandas as pd"
   ]
  },
  {
   "cell_type": "markdown",
   "id": "f7c28cc3",
   "metadata": {},
   "source": [
    "##### load the data into pandas data frame"
   ]
  }
 ],
 "metadata": {
  "kernelspec": {
   "display_name": "Python 3 (ipykernel)",
   "language": "python",
   "name": "python3"
  },
  "language_info": {
   "codemirror_mode": {
    "name": "ipython",
    "version": 3
   },
   "file_extension": ".py",
   "mimetype": "text/x-python",
   "name": "python",
   "nbconvert_exporter": "python",
   "pygments_lexer": "ipython3",
   "version": "3.8.10"
  }
 },
 "nbformat": 4,
 "nbformat_minor": 5
}

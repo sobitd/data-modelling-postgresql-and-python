{
 "cells": [
  {
   "cell_type": "markdown",
   "id": "d83156c6",
   "metadata": {},
   "source": [
    "### Create Table with PostgreSQL"
   ]
  },
  {
   "cell_type": "code",
   "execution_count": 1,
   "id": "dae99899",
   "metadata": {
    "scrolled": false
   },
   "outputs": [],
   "source": [
    "#pip install psycopg2"
   ]
  },
  {
   "cell_type": "code",
   "execution_count": 2,
   "id": "7d0e2c9a",
   "metadata": {},
   "outputs": [],
   "source": [
    "import psycopg2"
   ]
  },
  {
   "cell_type": "markdown",
   "id": "a3b0fccc",
   "metadata": {},
   "source": [
    "#### create a database to do the work in.add database name in the connect statement.  use the connection to get a cursor that can be used to execute queries. set automatic commit to be true so that each action is committed without having to call conn.commit() after each command "
   ]
  },
  {
   "cell_type": "code",
   "execution_count": 4,
   "id": "52945b4d",
   "metadata": {},
   "outputs": [
    {
     "ename": "NameError",
     "evalue": "name 'conn' is not defined",
     "output_type": "error",
     "traceback": [
      "\u001b[0;31m---------------------------------------------------------------------------\u001b[0m",
      "\u001b[0;31mNameError\u001b[0m                                 Traceback (most recent call last)",
      "Input \u001b[0;32mIn [4]\u001b[0m, in \u001b[0;36m<cell line: 1>\u001b[0;34m()\u001b[0m\n\u001b[1;32m      1\u001b[0m \u001b[38;5;28;01mtry\u001b[39;00m:\n\u001b[0;32m----> 2\u001b[0m     cur \u001b[38;5;241m=\u001b[39m \u001b[43mconn\u001b[49m\u001b[38;5;241m.\u001b[39mcursor()\n\u001b[1;32m      3\u001b[0m \u001b[38;5;28;01mexcept\u001b[39;00m psycopg2\u001b[38;5;241m.\u001b[39mError \u001b[38;5;28;01mas\u001b[39;00m e:\n\u001b[1;32m      4\u001b[0m     \u001b[38;5;28mprint\u001b[39m(\u001b[38;5;124m\"\u001b[39m\u001b[38;5;124mError: Could not get curser to the Database\u001b[39m\u001b[38;5;124m\"\u001b[39m)\n",
      "\u001b[0;31mNameError\u001b[0m: name 'conn' is not defined"
     ]
    }
   ],
   "source": [
    "try:\n",
    "    cur = conn.cursor()\n",
    "except psycopg2.Error as e:\n",
    "    print(\"Error: Could not get curser to the Database\")\n",
    "    print(e)\n",
    "\n",
    "try:\n",
    "    conn =  psycopg2.connect(\"host=127.0.0.1 dbname=datamodellingdb user=postgres password=access\")\n",
    "except psycopg2.Error as e:\n",
    "    print(\"Error: Could not make connection to the Postgres database\")\n",
    "    print(e)\n",
    "    \n",
    "\n",
    "    \n",
    "conn.set_session(autocommit=True)"
   ]
  },
  {
   "cell_type": "markdown",
   "id": "10c57e7a",
   "metadata": {},
   "source": [
    "#### Create a Students table that includes these columns\n",
    "student_id\n",
    "name\n",
    "age \n",
    "gender\n",
    "subject\n",
    "marks"
   ]
  },
  {
   "cell_type": "code",
   "execution_count": null,
   "id": "8ad8428c",
   "metadata": {},
   "outputs": [],
   "source": [
    "try:\n",
    "    cur.execute(\"CREATE TABLE IF NOT EXISTS students(\n",
    "               student_id int,\n",
    "               name varchar,\\\n",
    "               age int,\n",
    "               gender varchar,\n",
    "               subject varchar,\n",
    "               marks int);\")\n",
    "except psycopg2.Error as e:\n",
    "        print(\"Error:Issue creating table\") "
   ]
  },
  {
   "cell_type": "code",
   "execution_count": null,
   "id": "b2096e6b",
   "metadata": {},
   "outputs": [],
   "source": []
  }
 ],
 "metadata": {
  "kernelspec": {
   "display_name": "Python 3 (ipykernel)",
   "language": "python",
   "name": "python3"
  },
  "language_info": {
   "codemirror_mode": {
    "name": "ipython",
    "version": 3
   },
   "file_extension": ".py",
   "mimetype": "text/x-python",
   "name": "python",
   "nbconvert_exporter": "python",
   "pygments_lexer": "ipython3",
   "version": "3.8.10"
  }
 },
 "nbformat": 4,
 "nbformat_minor": 5
}

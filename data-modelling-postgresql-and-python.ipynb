{
 "cells": [
  {
   "cell_type": "markdown",
   "id": "4cfbf491",
   "metadata": {},
   "source": [
    "### Create Table with PostgreSQL"
   ]
  },
  {
   "cell_type": "code",
   "execution_count": null,
   "id": "e4f60371",
   "metadata": {
    "scrolled": false
   },
   "outputs": [],
   "source": [
    "#pip install psycopg2"
   ]
  },
  {
   "cell_type": "code",
   "execution_count": null,
   "id": "0b445b44",
   "metadata": {},
   "outputs": [],
   "source": [
    "import psycopg2"
   ]
  },
  {
   "cell_type": "markdown",
   "id": "c10de5d3",
   "metadata": {},
   "source": [
    "#### Create a connection to the database"
   ]
  },
  {
   "cell_type": "code",
   "execution_count": null,
   "id": "7214a4dc",
   "metadata": {},
   "outputs": [],
   "source": [
    "try:\n",
    "    conn =  psycopg2.connect(\"host=127.0.0.1 dbname=datamodellingdb user=postgres password=access\")\n",
    "except psycopg2.Error as e:\n",
    "    print(\"Error: Could not make connection to the Postgres database\")\n",
    "    print(e)\n",
    "    "
   ]
  },
  {
   "cell_type": "markdown",
   "id": "ea09d3da",
   "metadata": {},
   "source": [
    "#### use the connection to get a cursor that can be used to execute queries"
   ]
  },
  {
   "cell_type": "code",
   "execution_count": null,
   "id": "fed6422d",
   "metadata": {},
   "outputs": [],
   "source": [
    "try:\n",
    "    cur = conn.cursor()\n",
    "except psycopg2.Error as e:\n",
    "    print(\"Error: Could not get curser to the Database\")\n",
    "    print(e)"
   ]
  },
  {
   "cell_type": "markdown",
   "id": "75aa5aed",
   "metadata": {},
   "source": [
    "#### set automatic commit to be true so that each action is committed without having to call conn.commit() after each command "
   ]
  },
  {
   "cell_type": "code",
   "execution_count": null,
   "id": "efe7cf20",
   "metadata": {},
   "outputs": [],
   "source": [
    "conn.set_session(autocommit=True)"
   ]
  },
  {
   "cell_type": "markdown",
   "id": "7c714135",
   "metadata": {},
   "source": [
    "#### create a database to do the work in"
   ]
  },
  {
   "cell_type": "code",
   "execution_count": null,
   "id": "3f8dad09",
   "metadata": {},
   "outputs": [],
   "source": [
    "try:\n",
    "    cur.execute(\"create database datamodellingdb\")\n",
    "except psycopg2.Error as e:\n",
    "    print(e)"
   ]
  },
  {
   "cell_type": "markdown",
   "id": "82e48432",
   "metadata": {},
   "source": [
    "#### add database name in the connect statement"
   ]
  },
  {
   "cell_type": "code",
   "execution_count": null,
   "id": "cbbf1c38",
   "metadata": {},
   "outputs": [],
   "source": [
    "try:\n",
    "    conn.close()\n",
    "except psycopg2.Error as e:\n",
    "    print(e)\n",
    "    \n",
    "try: \n",
    "    connect."
   ]
  }
 ],
 "metadata": {
  "kernelspec": {
   "display_name": "Python 3 (ipykernel)",
   "language": "python",
   "name": "python3"
  },
  "language_info": {
   "codemirror_mode": {
    "name": "ipython",
    "version": 3
   },
   "file_extension": ".py",
   "mimetype": "text/x-python",
   "name": "python",
   "nbconvert_exporter": "python",
   "pygments_lexer": "ipython3",
   "version": "3.8.10"
  }
 },
 "nbformat": 4,
 "nbformat_minor": 5
}

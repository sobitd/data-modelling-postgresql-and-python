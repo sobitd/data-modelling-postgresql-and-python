{
 "cells": [
  {
   "cell_type": "markdown",
   "id": "d6b7e432",
   "metadata": {},
   "source": [
    "### Create Table with PostgreSQL"
   ]
  },
  {
   "cell_type": "code",
   "execution_count": null,
   "id": "5aadf032",
   "metadata": {
    "scrolled": false
   },
   "outputs": [],
   "source": [
    "#pip install psycopg2"
   ]
  },
  {
   "cell_type": "code",
   "execution_count": null,
   "id": "31881502",
   "metadata": {},
   "outputs": [],
   "source": [
    "import psycopg2"
   ]
  },
  {
   "cell_type": "markdown",
   "id": "ca602530",
   "metadata": {},
   "source": [
    "#### create a database to do the work in"
   ]
  },
  {
   "cell_type": "code",
   "execution_count": null,
   "id": "1c4b7950",
   "metadata": {},
   "outputs": [],
   "source": [
    "try:\n",
    "    cur.execute(\"create database datamodellingdb\")\n",
    "except psycopg2.Error as e:\n",
    "    print(e)"
   ]
  },
  {
   "cell_type": "markdown",
   "id": "f92ceda8",
   "metadata": {},
   "source": [
    "#### add database name in the connect statement.  use the connection to get a cursor that can be used to execute queries. set automatic commit to be true so that each action is committed without having to call conn.commit() after each command "
   ]
  },
  {
   "cell_type": "code",
   "execution_count": null,
   "id": "f134472c",
   "metadata": {},
   "outputs": [],
   "source": [
    "try:\n",
    "    conn.close()\n",
    "except psycopg2.Error as e:\n",
    "    print(e)\n",
    "    \n",
    "try:\n",
    "    conn =  psycopg2.connect(\"host=127.0.0.1 dbname=datamodellingdb user=postgres password=access\")\n",
    "except psycopg2.Error as e:\n",
    "    print(\"Error: Could not make connection to the Postgres database\")\n",
    "    print(e)\n",
    "    \n",
    "try:\n",
    "    cur = conn.cursor()\n",
    "except psycopg2.Error as e:\n",
    "    print(\"Error: Could not get curser to the Database\")\n",
    "    print(e)\n",
    "    \n",
    "conn.set_session(autocommit=True)"
   ]
  }
 ],
 "metadata": {
  "kernelspec": {
   "display_name": "Python 3 (ipykernel)",
   "language": "python",
   "name": "python3"
  },
  "language_info": {
   "codemirror_mode": {
    "name": "ipython",
    "version": 3
   },
   "file_extension": ".py",
   "mimetype": "text/x-python",
   "name": "python",
   "nbconvert_exporter": "python",
   "pygments_lexer": "ipython3",
   "version": "3.8.10"
  }
 },
 "nbformat": 4,
 "nbformat_minor": 5
}
